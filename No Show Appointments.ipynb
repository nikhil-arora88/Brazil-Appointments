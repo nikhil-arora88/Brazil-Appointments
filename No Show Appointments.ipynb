{
 "cells": [
  {
   "cell_type": "markdown",
   "metadata": {},
   "source": [
    "# Brazil's No-show appointment data\n",
    "\n",
    "The no show appointments data set contains data on ~100k appointments Brazil with focus around whether the appointment ended in a No-show or not. In addition to identifier variables such as Patint ID, Appointment ID etc other variables present in the dataset are Gender, Scheduled date (date of scheduling), Appointment date (date of appointment), age of patient, neighborhood (location of hospital), scholarship (whether patient is enrolled in brasiliant welfate program 'Bolsa Familia', whether the patient has Hypertension, diabetes, is an alcoholic or handicapped (specially abled) and finally whether the appointment resulted in a no show or not.\n",
    "\n",
    "We shall try to address the following questions using this data:\n",
    "\n",
    "1. Whether the gender of the patient determines Show/No-show.\n",
    "2. Whether the age (or age group) of the patient determines Show/No-show.\n",
    "3. Whether the gap between day of Appointment and day of scheduling the appointment determines Show/No-show.\n",
    "4. Which  hospitals have a better patient appearance rate than others.\n",
    "5. Whether any of Hypertension, diabetes, alcoholosm or handicap determines Show/No-show.\n",
    "6. Whether receiving an SMS regarding the appointment increases the chances of appearance."
   ]
  },
  {
   "cell_type": "markdown",
   "metadata": {},
   "source": [
    "### Import requisite libraries"
   ]
  },
  {
   "cell_type": "code",
   "execution_count": 57,
   "metadata": {},
   "outputs": [],
   "source": [
    "import os\n",
    "import numpy as np\n",
    "from datetime import datetime\n",
    "from datetime import date\n",
    "import pandas as pd\n",
    "import matplotlib.pyplot as plt\n",
    "import seaborn as sns\n",
    "%matplotlib inline"
   ]
  },
  {
   "cell_type": "markdown",
   "metadata": {},
   "source": [
    "### Set working directory and load the data set"
   ]
  },
  {
   "cell_type": "code",
   "execution_count": 58,
   "metadata": {},
   "outputs": [
    {
     "name": "stdout",
     "output_type": "stream",
     "text": [
      "C:\\Users\\nikhil\\Desktop\\Udacity Data Analyst Nanodegree\\Case Studies\\2a. No Show Appointments\n"
     ]
    }
   ],
   "source": [
    "os.chdir('C:\\\\Users\\\\nikhil\\\\Desktop\\\\Udacity Data Analyst Nanodegree\\\\Case Studies\\\\2a. No Show Appointments\\\\')\n",
    "print(os.getcwd())\n",
    "\n",
    "df = pd.read_csv('noshowappointments.csv')"
   ]
  },
  {
   "cell_type": "markdown",
   "metadata": {},
   "source": [
    "### Explore the data set"
   ]
  },
  {
   "cell_type": "code",
   "execution_count": 59,
   "metadata": {},
   "outputs": [
    {
     "data": {
      "text/plain": [
       "(110527, 14)"
      ]
     },
     "execution_count": 59,
     "metadata": {},
     "output_type": "execute_result"
    }
   ],
   "source": [
    "df.shape"
   ]
  },
  {
   "cell_type": "code",
   "execution_count": 60,
   "metadata": {},
   "outputs": [
    {
     "data": {
      "text/html": [
       "<div>\n",
       "<style scoped>\n",
       "    .dataframe tbody tr th:only-of-type {\n",
       "        vertical-align: middle;\n",
       "    }\n",
       "\n",
       "    .dataframe tbody tr th {\n",
       "        vertical-align: top;\n",
       "    }\n",
       "\n",
       "    .dataframe thead th {\n",
       "        text-align: right;\n",
       "    }\n",
       "</style>\n",
       "<table border=\"1\" class=\"dataframe\">\n",
       "  <thead>\n",
       "    <tr style=\"text-align: right;\">\n",
       "      <th></th>\n",
       "      <th>PatientId</th>\n",
       "      <th>AppointmentID</th>\n",
       "      <th>Gender</th>\n",
       "      <th>ScheduledDay</th>\n",
       "      <th>AppointmentDay</th>\n",
       "      <th>Age</th>\n",
       "      <th>Neighbourhood</th>\n",
       "      <th>Scholarship</th>\n",
       "      <th>Hipertension</th>\n",
       "      <th>Diabetes</th>\n",
       "      <th>Alcoholism</th>\n",
       "      <th>Handcap</th>\n",
       "      <th>SMS_received</th>\n",
       "      <th>No-show</th>\n",
       "    </tr>\n",
       "  </thead>\n",
       "  <tbody>\n",
       "    <tr>\n",
       "      <th>0</th>\n",
       "      <td>2.987250e+13</td>\n",
       "      <td>5642903</td>\n",
       "      <td>F</td>\n",
       "      <td>2016-04-29T18:38:08Z</td>\n",
       "      <td>2016-04-29T00:00:00Z</td>\n",
       "      <td>62</td>\n",
       "      <td>JARDIM DA PENHA</td>\n",
       "      <td>0</td>\n",
       "      <td>1</td>\n",
       "      <td>0</td>\n",
       "      <td>0</td>\n",
       "      <td>0</td>\n",
       "      <td>0</td>\n",
       "      <td>No</td>\n",
       "    </tr>\n",
       "    <tr>\n",
       "      <th>1</th>\n",
       "      <td>5.589978e+14</td>\n",
       "      <td>5642503</td>\n",
       "      <td>M</td>\n",
       "      <td>2016-04-29T16:08:27Z</td>\n",
       "      <td>2016-04-29T00:00:00Z</td>\n",
       "      <td>56</td>\n",
       "      <td>JARDIM DA PENHA</td>\n",
       "      <td>0</td>\n",
       "      <td>0</td>\n",
       "      <td>0</td>\n",
       "      <td>0</td>\n",
       "      <td>0</td>\n",
       "      <td>0</td>\n",
       "      <td>No</td>\n",
       "    </tr>\n",
       "    <tr>\n",
       "      <th>2</th>\n",
       "      <td>4.262962e+12</td>\n",
       "      <td>5642549</td>\n",
       "      <td>F</td>\n",
       "      <td>2016-04-29T16:19:04Z</td>\n",
       "      <td>2016-04-29T00:00:00Z</td>\n",
       "      <td>62</td>\n",
       "      <td>MATA DA PRAIA</td>\n",
       "      <td>0</td>\n",
       "      <td>0</td>\n",
       "      <td>0</td>\n",
       "      <td>0</td>\n",
       "      <td>0</td>\n",
       "      <td>0</td>\n",
       "      <td>No</td>\n",
       "    </tr>\n",
       "    <tr>\n",
       "      <th>3</th>\n",
       "      <td>8.679512e+11</td>\n",
       "      <td>5642828</td>\n",
       "      <td>F</td>\n",
       "      <td>2016-04-29T17:29:31Z</td>\n",
       "      <td>2016-04-29T00:00:00Z</td>\n",
       "      <td>8</td>\n",
       "      <td>PONTAL DE CAMBURI</td>\n",
       "      <td>0</td>\n",
       "      <td>0</td>\n",
       "      <td>0</td>\n",
       "      <td>0</td>\n",
       "      <td>0</td>\n",
       "      <td>0</td>\n",
       "      <td>No</td>\n",
       "    </tr>\n",
       "    <tr>\n",
       "      <th>4</th>\n",
       "      <td>8.841186e+12</td>\n",
       "      <td>5642494</td>\n",
       "      <td>F</td>\n",
       "      <td>2016-04-29T16:07:23Z</td>\n",
       "      <td>2016-04-29T00:00:00Z</td>\n",
       "      <td>56</td>\n",
       "      <td>JARDIM DA PENHA</td>\n",
       "      <td>0</td>\n",
       "      <td>1</td>\n",
       "      <td>1</td>\n",
       "      <td>0</td>\n",
       "      <td>0</td>\n",
       "      <td>0</td>\n",
       "      <td>No</td>\n",
       "    </tr>\n",
       "  </tbody>\n",
       "</table>\n",
       "</div>"
      ],
      "text/plain": [
       "      PatientId  AppointmentID Gender          ScheduledDay  \\\n",
       "0  2.987250e+13        5642903      F  2016-04-29T18:38:08Z   \n",
       "1  5.589978e+14        5642503      M  2016-04-29T16:08:27Z   \n",
       "2  4.262962e+12        5642549      F  2016-04-29T16:19:04Z   \n",
       "3  8.679512e+11        5642828      F  2016-04-29T17:29:31Z   \n",
       "4  8.841186e+12        5642494      F  2016-04-29T16:07:23Z   \n",
       "\n",
       "         AppointmentDay  Age      Neighbourhood  Scholarship  Hipertension  \\\n",
       "0  2016-04-29T00:00:00Z   62    JARDIM DA PENHA            0             1   \n",
       "1  2016-04-29T00:00:00Z   56    JARDIM DA PENHA            0             0   \n",
       "2  2016-04-29T00:00:00Z   62      MATA DA PRAIA            0             0   \n",
       "3  2016-04-29T00:00:00Z    8  PONTAL DE CAMBURI            0             0   \n",
       "4  2016-04-29T00:00:00Z   56    JARDIM DA PENHA            0             1   \n",
       "\n",
       "   Diabetes  Alcoholism  Handcap  SMS_received No-show  \n",
       "0         0           0        0             0      No  \n",
       "1         0           0        0             0      No  \n",
       "2         0           0        0             0      No  \n",
       "3         0           0        0             0      No  \n",
       "4         1           0        0             0      No  "
      ]
     },
     "execution_count": 60,
     "metadata": {},
     "output_type": "execute_result"
    }
   ],
   "source": [
    "df.head()"
   ]
  },
  {
   "cell_type": "code",
   "execution_count": 61,
   "metadata": {},
   "outputs": [
    {
     "name": "stdout",
     "output_type": "stream",
     "text": [
      "<class 'pandas.core.frame.DataFrame'>\n",
      "RangeIndex: 110527 entries, 0 to 110526\n",
      "Data columns (total 14 columns):\n",
      "PatientId         110527 non-null float64\n",
      "AppointmentID     110527 non-null int64\n",
      "Gender            110527 non-null object\n",
      "ScheduledDay      110527 non-null object\n",
      "AppointmentDay    110527 non-null object\n",
      "Age               110527 non-null int64\n",
      "Neighbourhood     110527 non-null object\n",
      "Scholarship       110527 non-null int64\n",
      "Hipertension      110527 non-null int64\n",
      "Diabetes          110527 non-null int64\n",
      "Alcoholism        110527 non-null int64\n",
      "Handcap           110527 non-null int64\n",
      "SMS_received      110527 non-null int64\n",
      "No-show           110527 non-null object\n",
      "dtypes: float64(1), int64(8), object(5)\n",
      "memory usage: 11.8+ MB\n"
     ]
    }
   ],
   "source": [
    "df.info()"
   ]
  },
  {
   "cell_type": "markdown",
   "metadata": {},
   "source": [
    "### Results of info() function shows that there are no missing values"
   ]
  },
  {
   "cell_type": "code",
   "execution_count": 62,
   "metadata": {},
   "outputs": [
    {
     "data": {
      "text/html": [
       "<div>\n",
       "<style scoped>\n",
       "    .dataframe tbody tr th:only-of-type {\n",
       "        vertical-align: middle;\n",
       "    }\n",
       "\n",
       "    .dataframe tbody tr th {\n",
       "        vertical-align: top;\n",
       "    }\n",
       "\n",
       "    .dataframe thead th {\n",
       "        text-align: right;\n",
       "    }\n",
       "</style>\n",
       "<table border=\"1\" class=\"dataframe\">\n",
       "  <thead>\n",
       "    <tr style=\"text-align: right;\">\n",
       "      <th></th>\n",
       "      <th>PatientId</th>\n",
       "      <th>AppointmentID</th>\n",
       "      <th>Age</th>\n",
       "      <th>Scholarship</th>\n",
       "      <th>Hipertension</th>\n",
       "      <th>Diabetes</th>\n",
       "      <th>Alcoholism</th>\n",
       "      <th>Handcap</th>\n",
       "      <th>SMS_received</th>\n",
       "    </tr>\n",
       "  </thead>\n",
       "  <tbody>\n",
       "    <tr>\n",
       "      <th>count</th>\n",
       "      <td>1.105270e+05</td>\n",
       "      <td>1.105270e+05</td>\n",
       "      <td>110527.000000</td>\n",
       "      <td>110527.000000</td>\n",
       "      <td>110527.000000</td>\n",
       "      <td>110527.000000</td>\n",
       "      <td>110527.000000</td>\n",
       "      <td>110527.000000</td>\n",
       "      <td>110527.000000</td>\n",
       "    </tr>\n",
       "    <tr>\n",
       "      <th>mean</th>\n",
       "      <td>1.474963e+14</td>\n",
       "      <td>5.675305e+06</td>\n",
       "      <td>37.088874</td>\n",
       "      <td>0.098266</td>\n",
       "      <td>0.197246</td>\n",
       "      <td>0.071865</td>\n",
       "      <td>0.030400</td>\n",
       "      <td>0.022248</td>\n",
       "      <td>0.321026</td>\n",
       "    </tr>\n",
       "    <tr>\n",
       "      <th>std</th>\n",
       "      <td>2.560949e+14</td>\n",
       "      <td>7.129575e+04</td>\n",
       "      <td>23.110205</td>\n",
       "      <td>0.297675</td>\n",
       "      <td>0.397921</td>\n",
       "      <td>0.258265</td>\n",
       "      <td>0.171686</td>\n",
       "      <td>0.161543</td>\n",
       "      <td>0.466873</td>\n",
       "    </tr>\n",
       "    <tr>\n",
       "      <th>min</th>\n",
       "      <td>3.921784e+04</td>\n",
       "      <td>5.030230e+06</td>\n",
       "      <td>-1.000000</td>\n",
       "      <td>0.000000</td>\n",
       "      <td>0.000000</td>\n",
       "      <td>0.000000</td>\n",
       "      <td>0.000000</td>\n",
       "      <td>0.000000</td>\n",
       "      <td>0.000000</td>\n",
       "    </tr>\n",
       "    <tr>\n",
       "      <th>25%</th>\n",
       "      <td>4.172614e+12</td>\n",
       "      <td>5.640286e+06</td>\n",
       "      <td>18.000000</td>\n",
       "      <td>0.000000</td>\n",
       "      <td>0.000000</td>\n",
       "      <td>0.000000</td>\n",
       "      <td>0.000000</td>\n",
       "      <td>0.000000</td>\n",
       "      <td>0.000000</td>\n",
       "    </tr>\n",
       "    <tr>\n",
       "      <th>50%</th>\n",
       "      <td>3.173184e+13</td>\n",
       "      <td>5.680573e+06</td>\n",
       "      <td>37.000000</td>\n",
       "      <td>0.000000</td>\n",
       "      <td>0.000000</td>\n",
       "      <td>0.000000</td>\n",
       "      <td>0.000000</td>\n",
       "      <td>0.000000</td>\n",
       "      <td>0.000000</td>\n",
       "    </tr>\n",
       "    <tr>\n",
       "      <th>75%</th>\n",
       "      <td>9.439172e+13</td>\n",
       "      <td>5.725524e+06</td>\n",
       "      <td>55.000000</td>\n",
       "      <td>0.000000</td>\n",
       "      <td>0.000000</td>\n",
       "      <td>0.000000</td>\n",
       "      <td>0.000000</td>\n",
       "      <td>0.000000</td>\n",
       "      <td>1.000000</td>\n",
       "    </tr>\n",
       "    <tr>\n",
       "      <th>max</th>\n",
       "      <td>9.999816e+14</td>\n",
       "      <td>5.790484e+06</td>\n",
       "      <td>115.000000</td>\n",
       "      <td>1.000000</td>\n",
       "      <td>1.000000</td>\n",
       "      <td>1.000000</td>\n",
       "      <td>1.000000</td>\n",
       "      <td>4.000000</td>\n",
       "      <td>1.000000</td>\n",
       "    </tr>\n",
       "  </tbody>\n",
       "</table>\n",
       "</div>"
      ],
      "text/plain": [
       "          PatientId  AppointmentID            Age    Scholarship  \\\n",
       "count  1.105270e+05   1.105270e+05  110527.000000  110527.000000   \n",
       "mean   1.474963e+14   5.675305e+06      37.088874       0.098266   \n",
       "std    2.560949e+14   7.129575e+04      23.110205       0.297675   \n",
       "min    3.921784e+04   5.030230e+06      -1.000000       0.000000   \n",
       "25%    4.172614e+12   5.640286e+06      18.000000       0.000000   \n",
       "50%    3.173184e+13   5.680573e+06      37.000000       0.000000   \n",
       "75%    9.439172e+13   5.725524e+06      55.000000       0.000000   \n",
       "max    9.999816e+14   5.790484e+06     115.000000       1.000000   \n",
       "\n",
       "        Hipertension       Diabetes     Alcoholism        Handcap  \\\n",
       "count  110527.000000  110527.000000  110527.000000  110527.000000   \n",
       "mean        0.197246       0.071865       0.030400       0.022248   \n",
       "std         0.397921       0.258265       0.171686       0.161543   \n",
       "min         0.000000       0.000000       0.000000       0.000000   \n",
       "25%         0.000000       0.000000       0.000000       0.000000   \n",
       "50%         0.000000       0.000000       0.000000       0.000000   \n",
       "75%         0.000000       0.000000       0.000000       0.000000   \n",
       "max         1.000000       1.000000       1.000000       4.000000   \n",
       "\n",
       "        SMS_received  \n",
       "count  110527.000000  \n",
       "mean        0.321026  \n",
       "std         0.466873  \n",
       "min         0.000000  \n",
       "25%         0.000000  \n",
       "50%         0.000000  \n",
       "75%         1.000000  \n",
       "max         1.000000  "
      ]
     },
     "execution_count": 62,
     "metadata": {},
     "output_type": "execute_result"
    }
   ],
   "source": [
    "df.describe()"
   ]
  },
  {
   "cell_type": "markdown",
   "metadata": {},
   "source": [
    "Below points can be noted about the data\n",
    "\n",
    "1. Most of the appointments are for patients between the age of 18-55\n",
    "2. Most the the patients are not enrolled in the welfare program, don't have hypertension, are non-diabetic and not-handicapped."
   ]
  },
  {
   "cell_type": "markdown",
   "metadata": {},
   "source": [
    "### Create new variable 'Appeared' as 1 or 0 from 'No-show'"
   ]
  },
  {
   "cell_type": "code",
   "execution_count": 63,
   "metadata": {},
   "outputs": [],
   "source": [
    "df['Appeared'] = np.where(df['No-show'] == 'No', 1, 0)"
   ]
  },
  {
   "cell_type": "markdown",
   "metadata": {},
   "source": [
    "### Convert scheduled day and appointment day to date type formats"
   ]
  },
  {
   "cell_type": "code",
   "execution_count": 64,
   "metadata": {},
   "outputs": [
    {
     "data": {
      "text/plain": [
       "datetime.date"
      ]
     },
     "execution_count": 64,
     "metadata": {},
     "output_type": "execute_result"
    }
   ],
   "source": [
    "df.ScheduledDay = pd.to_datetime(df.ScheduledDay, yearfirst = True).apply(lambda x: x.date())\n",
    "\n",
    "# check data type of ScheduledDay\n",
    "type(df.ScheduledDay[0])"
   ]
  },
  {
   "cell_type": "code",
   "execution_count": 65,
   "metadata": {},
   "outputs": [
    {
     "data": {
      "text/plain": [
       "datetime.date"
      ]
     },
     "execution_count": 65,
     "metadata": {},
     "output_type": "execute_result"
    }
   ],
   "source": [
    "df.AppointmentDay = pd.to_datetime(df.AppointmentDay, yearfirst = True).apply(lambda x: x.date())\n",
    "\n",
    "# check data type of ScheduledDay\n",
    "type(df.AppointmentDay[0])"
   ]
  },
  {
   "cell_type": "markdown",
   "metadata": {},
   "source": [
    "### Create New variables"
   ]
  },
  {
   "cell_type": "markdown",
   "metadata": {},
   "source": [
    "#### Create new variable for Age bucket from Age"
   ]
  },
  {
   "cell_type": "code",
   "execution_count": 66,
   "metadata": {},
   "outputs": [
    {
     "data": {
      "image/png": "[encoded data removed]",
      "text/plain": [
       "<Figure size 432x288 with 1 Axes>"
      ]
     },
     "metadata": {
      "needs_background": "light"
     },
     "output_type": "display_data"
    }
   ],
   "source": [
    "# Check distribution by age\n",
    "\n",
    "df.hist('Age');"
   ]
  },
  {
   "cell_type": "code",
   "execution_count": 67,
   "metadata": {},
   "outputs": [
    {
     "data": {
      "image/png": "[encoded data removed]",
      "text/plain": [
       "<Figure size 432x288 with 1 Axes>"
      ]
     },
     "metadata": {
      "needs_background": "light"
     },
     "output_type": "display_data"
    }
   ],
   "source": [
    "df.boxplot(column = 'Age', by = 'Gender');"
   ]
  },
  {
   "cell_type": "code",
   "execution_count": 68,
   "metadata": {},
   "outputs": [],
   "source": [
    "df['Age_Bucket'] = pd.cut(df.Age, bins = [0, 10, 20, 30, 40, 50, 60, 70, 80, 90, 100])"
   ]
  },
  {
   "cell_type": "markdown",
   "metadata": {},
   "source": [
    "#### Create new variable 'Day_Difference' as difference in Appointment day and scehduled day and create categories of the same"
   ]
  },
  {
   "cell_type": "code",
   "execution_count": 69,
   "metadata": {},
   "outputs": [],
   "source": [
    "df['Day_Difference'] = (df['AppointmentDay'] - df['ScheduledDay']).dt.days\n",
    "df['Day_Difference_Bucket'] = pd.cut(df['Day_Difference'], bins = 10)"
   ]
  },
  {
   "cell_type": "code",
   "execution_count": 70,
   "metadata": {},
   "outputs": [
    {
     "data": {
      "text/plain": [
       "(-6.185, 12.5]    78183\n",
       "(12.5, 31.0]      22638\n",
       "(31.0, 49.5]       6396\n",
       "(49.5, 68.0]       2210\n",
       "(68.0, 86.5]        776\n",
       "(86.5, 105.0]       208\n",
       "(160.5, 179.0]       45\n",
       "(105.0, 123.5]       35\n",
       "(123.5, 142.0]       24\n",
       "(142.0, 160.5]       12\n",
       "Name: Day_Difference_Bucket, dtype: int64"
      ]
     },
     "execution_count": 70,
     "metadata": {},
     "output_type": "execute_result"
    }
   ],
   "source": [
    "# check frequency\n",
    "\n",
    "df['Day_Difference_Bucket'].value_counts()"
   ]
  },
  {
   "cell_type": "markdown",
   "metadata": {},
   "source": [
    "### Convert categorical variables to its categorical type from string"
   ]
  },
  {
   "cell_type": "code",
   "execution_count": 71,
   "metadata": {},
   "outputs": [],
   "source": [
    "categorical_columns = ['Gender', 'Neighbourhood', 'Scholarship', 'Hipertension', 'Diabetes'\n",
    "                       , 'Alcoholism', 'Handcap', 'SMS_received', 'No-show']\n",
    "\n",
    "for col in categorical_columns:\n",
    "    df[col] = df[col].astype('category')"
   ]
  },
  {
   "cell_type": "markdown",
   "metadata": {},
   "source": [
    "### Explore some variables further"
   ]
  },
  {
   "cell_type": "code",
   "execution_count": 72,
   "metadata": {},
   "outputs": [
    {
     "data": {
      "image/png": "[encoded data removed]",
      "text/plain": [
       "<Figure size 432x288 with 1 Axes>"
      ]
     },
     "metadata": {
      "needs_background": "light"
     },
     "output_type": "display_data"
    }
   ],
   "source": [
    "# Split of data by gender\n",
    "\n",
    "df.groupby('Gender')['PatientId'].count().plot(kind = 'bar').set_ylabel('Count');"
   ]
  },
  {
   "cell_type": "markdown",
   "metadata": {},
   "source": [
    "The data set contains data on more female appointments than male appointments"
   ]
  },
  {
   "cell_type": "code",
   "execution_count": 73,
   "metadata": {},
   "outputs": [
    {
     "data": {
      "image/png": "[encoded data removed]",
      "text/plain": [
       "<Figure size 432x288 with 1 Axes>"
      ]
     },
     "metadata": {
      "needs_background": "light"
     },
     "output_type": "display_data"
    }
   ],
   "source": [
    "df.groupby(['Gender', 'Alcoholism'])['Appeared'].mean().unstack().plot(kind = 'bar').set_ylabel('Mean Appearance Rate (%)');"
   ]
  },
  {
   "cell_type": "markdown",
   "metadata": {},
   "source": [
    "The appearance rate in alcoholic males is higher than non-alcoholic males. Whereas the trend is reverse in case of females"
   ]
  },
  {
   "cell_type": "markdown",
   "metadata": {},
   "source": [
    "### Study factors that may contribute to No-show"
   ]
  },
  {
   "cell_type": "code",
   "execution_count": 74,
   "metadata": {},
   "outputs": [
    {
     "name": "stderr",
     "output_type": "stream",
     "text": [
      "C:\\Users\\nikhil\\Anaconda3\\lib\\site-packages\\pandas\\core\\groupby\\generic.py:1315: FutureWarning: using a dict with renaming is deprecated and will be removed in a future version\n",
      "  return super(DataFrameGroupBy, self).aggregate(arg, *args, **kwargs)\n"
     ]
    },
    {
     "data": {
      "image/png": "[encoded data removed]",
      "text/plain": [
       "<Figure size 1080x3888 with 9 Axes>"
      ]
     },
     "metadata": {
      "needs_background": "light"
     },
     "output_type": "display_data"
    }
   ],
   "source": [
    "study_columns = ['Gender', 'Scholarship', 'Hipertension', 'Diabetes', 'Alcoholism', \n",
    "                 'Handcap', 'SMS_received', 'Age_Bucket', 'Day_Difference_Bucket']\n",
    "\n",
    "f, axes = plt.subplots(len(study_columns), 1, figsize = (15, 6*len(study_columns)))\n",
    "df_study = []\n",
    "\n",
    "for i in range(len(study_columns)):\n",
    "    df_study.append(df.groupby(study_columns[i], as_index = False).agg({'Appeared' : {'Sum' : 'sum', 'Count' : 'count'}}))\n",
    "    df_study[i].columns = ['_'.join(x) for x in df_study[i].columns.ravel()]\n",
    "    df_study[i]['Appeared_Percent'] = df_study[i]['Appeared_Sum'] / df_study[i]['Appeared_Count']\n",
    "    p = sns.barplot(data = df_study[i], x = (study_columns[i] + '_'), y = 'Appeared_Percent', ax = axes[i])\n",
    "    p.set_xlabel(study_columns[i].replace('_', ' '))\n",
    "    p.set_ylabel('Appearance Rate (%)')\n"
   ]
  },
  {
   "cell_type": "markdown",
   "metadata": {},
   "source": [
    "### Below are the findings:\n",
    "1. No significant difference in appearance rate between males and females\n",
    "2. Patients who are not enrolled in Brasilian welfare program are more likely to turn up\n",
    "3. Patients whith Hypertension and Diabetes are more likely to turn up\n",
    "4. No significant difference in appearance rate between alcoholics and non-alcoholics\n",
    "5. People whith Handicap levels 1 and 2 are most likely to turn up\n",
    "6. People who don't receive an SMS are more likely to turn up for the appointment\n",
    "7. People in the age groups of 0-10 and 60-80 are more likely to turn up than other age groups\n",
    "8. Appointments where difference in appointment date and scehduled date is between (-6.2 - 12.5) and (105 - 123.5) are more likely to have an appearance as compared to other buckets\n",
    "\n",
    "### Kindly note that the above findings are based on the difference in Appearance rate for various groups by looking at the above charts. However, they don't provide any statsitical significance of the difference between the various groups. To test the same, statistical tests can be employed."
   ]
  },
  {
   "cell_type": "markdown",
   "metadata": {},
   "source": [
    "### Analyse which neighborhood has maximum appearance rate"
   ]
  },
  {
   "cell_type": "code",
   "execution_count": 75,
   "metadata": {},
   "outputs": [],
   "source": [
    "df_neighborhood = df.groupby('Neighbourhood').agg({'Appeared' : {'Sum' : 'sum', 'Count' : 'count'}})\n",
    "df_neighborhood.columns = ['_'.join(x) for x in df_neighborhood.columns.ravel()]\n",
    "df_neighborhood['Appeared_Percent'] = df_neighborhood['Appeared_Sum'] / df_neighborhood['Appeared_Count']\n",
    "df_neighborhood.sort_values(by = 'Appeared_Percent', ascending = False, inplace = True)"
   ]
  },
  {
   "cell_type": "code",
   "execution_count": 76,
   "metadata": {},
   "outputs": [
    {
     "data": {
      "text/html": [
       "<div>\n",
       "<style scoped>\n",
       "    .dataframe tbody tr th:only-of-type {\n",
       "        vertical-align: middle;\n",
       "    }\n",
       "\n",
       "    .dataframe tbody tr th {\n",
       "        vertical-align: top;\n",
       "    }\n",
       "\n",
       "    .dataframe thead th {\n",
       "        text-align: right;\n",
       "    }\n",
       "</style>\n",
       "<table border=\"1\" class=\"dataframe\">\n",
       "  <thead>\n",
       "    <tr style=\"text-align: right;\">\n",
       "      <th></th>\n",
       "      <th>Appeared_Sum</th>\n",
       "      <th>Appeared_Count</th>\n",
       "      <th>Appeared_Percent</th>\n",
       "    </tr>\n",
       "    <tr>\n",
       "      <th>Neighbourhood</th>\n",
       "      <th></th>\n",
       "      <th></th>\n",
       "      <th></th>\n",
       "    </tr>\n",
       "  </thead>\n",
       "  <tbody>\n",
       "    <tr>\n",
       "      <th>PARQUE INDUSTRIAL</th>\n",
       "      <td>1</td>\n",
       "      <td>1</td>\n",
       "      <td>1.000000</td>\n",
       "    </tr>\n",
       "    <tr>\n",
       "      <th>ILHA DO BOI</th>\n",
       "      <td>32</td>\n",
       "      <td>35</td>\n",
       "      <td>0.914286</td>\n",
       "    </tr>\n",
       "    <tr>\n",
       "      <th>AEROPORTO</th>\n",
       "      <td>7</td>\n",
       "      <td>8</td>\n",
       "      <td>0.875000</td>\n",
       "    </tr>\n",
       "    <tr>\n",
       "      <th>MÁRIO CYPRESTE</th>\n",
       "      <td>317</td>\n",
       "      <td>371</td>\n",
       "      <td>0.854447</td>\n",
       "    </tr>\n",
       "    <tr>\n",
       "      <th>SOLON BORGES</th>\n",
       "      <td>400</td>\n",
       "      <td>469</td>\n",
       "      <td>0.852878</td>\n",
       "    </tr>\n",
       "    <tr>\n",
       "      <th>DE LOURDES</th>\n",
       "      <td>258</td>\n",
       "      <td>305</td>\n",
       "      <td>0.845902</td>\n",
       "    </tr>\n",
       "    <tr>\n",
       "      <th>DO CABRAL</th>\n",
       "      <td>472</td>\n",
       "      <td>560</td>\n",
       "      <td>0.842857</td>\n",
       "    </tr>\n",
       "    <tr>\n",
       "      <th>SANTA MARTHA</th>\n",
       "      <td>2635</td>\n",
       "      <td>3131</td>\n",
       "      <td>0.841584</td>\n",
       "    </tr>\n",
       "    <tr>\n",
       "      <th>JARDIM DA PENHA</th>\n",
       "      <td>3246</td>\n",
       "      <td>3877</td>\n",
       "      <td>0.837245</td>\n",
       "    </tr>\n",
       "    <tr>\n",
       "      <th>DO QUADRO</th>\n",
       "      <td>709</td>\n",
       "      <td>849</td>\n",
       "      <td>0.835100</td>\n",
       "    </tr>\n",
       "    <tr>\n",
       "      <th>VILA RUBIM</th>\n",
       "      <td>710</td>\n",
       "      <td>851</td>\n",
       "      <td>0.834313</td>\n",
       "    </tr>\n",
       "    <tr>\n",
       "      <th>MORADA DE CAMBURI</th>\n",
       "      <td>80</td>\n",
       "      <td>96</td>\n",
       "      <td>0.833333</td>\n",
       "    </tr>\n",
       "    <tr>\n",
       "      <th>MATA DA PRAIA</th>\n",
       "      <td>534</td>\n",
       "      <td>644</td>\n",
       "      <td>0.829193</td>\n",
       "    </tr>\n",
       "    <tr>\n",
       "      <th>REPÚBLICA</th>\n",
       "      <td>692</td>\n",
       "      <td>835</td>\n",
       "      <td>0.828743</td>\n",
       "    </tr>\n",
       "    <tr>\n",
       "      <th>CONSOLAÇÃO</th>\n",
       "      <td>1139</td>\n",
       "      <td>1376</td>\n",
       "      <td>0.827762</td>\n",
       "    </tr>\n",
       "    <tr>\n",
       "      <th>PONTAL DE CAMBURI</th>\n",
       "      <td>57</td>\n",
       "      <td>69</td>\n",
       "      <td>0.826087</td>\n",
       "    </tr>\n",
       "    <tr>\n",
       "      <th>SANTO ANTÔNIO</th>\n",
       "      <td>2262</td>\n",
       "      <td>2746</td>\n",
       "      <td>0.823744</td>\n",
       "    </tr>\n",
       "    <tr>\n",
       "      <th>REDENÇÃO</th>\n",
       "      <td>1278</td>\n",
       "      <td>1553</td>\n",
       "      <td>0.822923</td>\n",
       "    </tr>\n",
       "    <tr>\n",
       "      <th>NOVA PALESTINA</th>\n",
       "      <td>1862</td>\n",
       "      <td>2264</td>\n",
       "      <td>0.822438</td>\n",
       "    </tr>\n",
       "    <tr>\n",
       "      <th>JABOUR</th>\n",
       "      <td>2058</td>\n",
       "      <td>2509</td>\n",
       "      <td>0.820247</td>\n",
       "    </tr>\n",
       "    <tr>\n",
       "      <th>SANTA LUÍZA</th>\n",
       "      <td>351</td>\n",
       "      <td>428</td>\n",
       "      <td>0.820093</td>\n",
       "    </tr>\n",
       "    <tr>\n",
       "      <th>COMDUSA</th>\n",
       "      <td>254</td>\n",
       "      <td>310</td>\n",
       "      <td>0.819355</td>\n",
       "    </tr>\n",
       "    <tr>\n",
       "      <th>JOANA D´ARC</th>\n",
       "      <td>1169</td>\n",
       "      <td>1427</td>\n",
       "      <td>0.819201</td>\n",
       "    </tr>\n",
       "    <tr>\n",
       "      <th>TABUAZEIRO</th>\n",
       "      <td>2559</td>\n",
       "      <td>3132</td>\n",
       "      <td>0.817050</td>\n",
       "    </tr>\n",
       "    <tr>\n",
       "      <th>FORTE SÃO JOÃO</th>\n",
       "      <td>1543</td>\n",
       "      <td>1889</td>\n",
       "      <td>0.816834</td>\n",
       "    </tr>\n",
       "    <tr>\n",
       "      <th>PRAIA DO CANTO</th>\n",
       "      <td>845</td>\n",
       "      <td>1035</td>\n",
       "      <td>0.816425</td>\n",
       "    </tr>\n",
       "    <tr>\n",
       "      <th>ANTÔNIO HONÓRIO</th>\n",
       "      <td>221</td>\n",
       "      <td>271</td>\n",
       "      <td>0.815498</td>\n",
       "    </tr>\n",
       "    <tr>\n",
       "      <th>BOA VISTA</th>\n",
       "      <td>254</td>\n",
       "      <td>312</td>\n",
       "      <td>0.814103</td>\n",
       "    </tr>\n",
       "    <tr>\n",
       "      <th>FRADINHOS</th>\n",
       "      <td>210</td>\n",
       "      <td>258</td>\n",
       "      <td>0.813953</td>\n",
       "    </tr>\n",
       "    <tr>\n",
       "      <th>CONQUISTA</th>\n",
       "      <td>689</td>\n",
       "      <td>849</td>\n",
       "      <td>0.811543</td>\n",
       "    </tr>\n",
       "    <tr>\n",
       "      <th>...</th>\n",
       "      <td>...</td>\n",
       "      <td>...</td>\n",
       "      <td>...</td>\n",
       "    </tr>\n",
       "    <tr>\n",
       "      <th>SANTA HELENA</th>\n",
       "      <td>141</td>\n",
       "      <td>178</td>\n",
       "      <td>0.792135</td>\n",
       "    </tr>\n",
       "    <tr>\n",
       "      <th>MARIA ORTIZ</th>\n",
       "      <td>4586</td>\n",
       "      <td>5805</td>\n",
       "      <td>0.790009</td>\n",
       "    </tr>\n",
       "    <tr>\n",
       "      <th>SÃO PEDRO</th>\n",
       "      <td>1933</td>\n",
       "      <td>2448</td>\n",
       "      <td>0.789624</td>\n",
       "    </tr>\n",
       "    <tr>\n",
       "      <th>UNIVERSITÁRIO</th>\n",
       "      <td>120</td>\n",
       "      <td>152</td>\n",
       "      <td>0.789474</td>\n",
       "    </tr>\n",
       "    <tr>\n",
       "      <th>CENTRO</th>\n",
       "      <td>2631</td>\n",
       "      <td>3334</td>\n",
       "      <td>0.789142</td>\n",
       "    </tr>\n",
       "    <tr>\n",
       "      <th>ROMÃO</th>\n",
       "      <td>1741</td>\n",
       "      <td>2215</td>\n",
       "      <td>0.786005</td>\n",
       "    </tr>\n",
       "    <tr>\n",
       "      <th>NAZARETH</th>\n",
       "      <td>106</td>\n",
       "      <td>135</td>\n",
       "      <td>0.785185</td>\n",
       "    </tr>\n",
       "    <tr>\n",
       "      <th>BARRO VERMELHO</th>\n",
       "      <td>332</td>\n",
       "      <td>423</td>\n",
       "      <td>0.784870</td>\n",
       "    </tr>\n",
       "    <tr>\n",
       "      <th>SÃO JOSÉ</th>\n",
       "      <td>1549</td>\n",
       "      <td>1977</td>\n",
       "      <td>0.783510</td>\n",
       "    </tr>\n",
       "    <tr>\n",
       "      <th>CRUZAMENTO</th>\n",
       "      <td>1094</td>\n",
       "      <td>1398</td>\n",
       "      <td>0.782546</td>\n",
       "    </tr>\n",
       "    <tr>\n",
       "      <th>FONTE GRANDE</th>\n",
       "      <td>533</td>\n",
       "      <td>682</td>\n",
       "      <td>0.781525</td>\n",
       "    </tr>\n",
       "    <tr>\n",
       "      <th>ILHA DAS CAIEIRAS</th>\n",
       "      <td>836</td>\n",
       "      <td>1071</td>\n",
       "      <td>0.780579</td>\n",
       "    </tr>\n",
       "    <tr>\n",
       "      <th>ARIOVALDO FAVALESSA</th>\n",
       "      <td>220</td>\n",
       "      <td>282</td>\n",
       "      <td>0.780142</td>\n",
       "    </tr>\n",
       "    <tr>\n",
       "      <th>ENSEADA DO SUÁ</th>\n",
       "      <td>183</td>\n",
       "      <td>235</td>\n",
       "      <td>0.778723</td>\n",
       "    </tr>\n",
       "    <tr>\n",
       "      <th>DO MOSCOSO</th>\n",
       "      <td>321</td>\n",
       "      <td>413</td>\n",
       "      <td>0.777240</td>\n",
       "    </tr>\n",
       "    <tr>\n",
       "      <th>MARUÍPE</th>\n",
       "      <td>1478</td>\n",
       "      <td>1902</td>\n",
       "      <td>0.777077</td>\n",
       "    </tr>\n",
       "    <tr>\n",
       "      <th>PARQUE MOSCOSO</th>\n",
       "      <td>623</td>\n",
       "      <td>802</td>\n",
       "      <td>0.776808</td>\n",
       "    </tr>\n",
       "    <tr>\n",
       "      <th>BENTO FERREIRA</th>\n",
       "      <td>665</td>\n",
       "      <td>858</td>\n",
       "      <td>0.775058</td>\n",
       "    </tr>\n",
       "    <tr>\n",
       "      <th>GURIGICA</th>\n",
       "      <td>1562</td>\n",
       "      <td>2018</td>\n",
       "      <td>0.774034</td>\n",
       "    </tr>\n",
       "    <tr>\n",
       "      <th>PRAIA DO SUÁ</th>\n",
       "      <td>994</td>\n",
       "      <td>1288</td>\n",
       "      <td>0.771739</td>\n",
       "    </tr>\n",
       "    <tr>\n",
       "      <th>ANDORINHAS</th>\n",
       "      <td>1741</td>\n",
       "      <td>2262</td>\n",
       "      <td>0.769673</td>\n",
       "    </tr>\n",
       "    <tr>\n",
       "      <th>CARATOÍRA</th>\n",
       "      <td>1974</td>\n",
       "      <td>2565</td>\n",
       "      <td>0.769591</td>\n",
       "    </tr>\n",
       "    <tr>\n",
       "      <th>ILHA DO PRÍNCIPE</th>\n",
       "      <td>1734</td>\n",
       "      <td>2266</td>\n",
       "      <td>0.765225</td>\n",
       "    </tr>\n",
       "    <tr>\n",
       "      <th>HORTO</th>\n",
       "      <td>133</td>\n",
       "      <td>175</td>\n",
       "      <td>0.760000</td>\n",
       "    </tr>\n",
       "    <tr>\n",
       "      <th>JESUS DE NAZARETH</th>\n",
       "      <td>2157</td>\n",
       "      <td>2853</td>\n",
       "      <td>0.756046</td>\n",
       "    </tr>\n",
       "    <tr>\n",
       "      <th>ITARARÉ</th>\n",
       "      <td>2591</td>\n",
       "      <td>3514</td>\n",
       "      <td>0.737336</td>\n",
       "    </tr>\n",
       "    <tr>\n",
       "      <th>SANTA CLARA</th>\n",
       "      <td>372</td>\n",
       "      <td>506</td>\n",
       "      <td>0.735178</td>\n",
       "    </tr>\n",
       "    <tr>\n",
       "      <th>SANTA CECÍLIA</th>\n",
       "      <td>325</td>\n",
       "      <td>448</td>\n",
       "      <td>0.725446</td>\n",
       "    </tr>\n",
       "    <tr>\n",
       "      <th>SANTOS DUMONT</th>\n",
       "      <td>907</td>\n",
       "      <td>1276</td>\n",
       "      <td>0.710815</td>\n",
       "    </tr>\n",
       "    <tr>\n",
       "      <th>ILHAS OCEÂNICAS DE TRINDADE</th>\n",
       "      <td>0</td>\n",
       "      <td>2</td>\n",
       "      <td>0.000000</td>\n",
       "    </tr>\n",
       "  </tbody>\n",
       "</table>\n",
       "<p>81 rows × 3 columns</p>\n",
       "</div>"
      ],
      "text/plain": [
       "                             Appeared_Sum  Appeared_Count  Appeared_Percent\n",
       "Neighbourhood                                                              \n",
       "PARQUE INDUSTRIAL                       1               1          1.000000\n",
       "ILHA DO BOI                            32              35          0.914286\n",
       "AEROPORTO                               7               8          0.875000\n",
       "MÁRIO CYPRESTE                        317             371          0.854447\n",
       "SOLON BORGES                          400             469          0.852878\n",
       "DE LOURDES                            258             305          0.845902\n",
       "DO CABRAL                             472             560          0.842857\n",
       "SANTA MARTHA                         2635            3131          0.841584\n",
       "JARDIM DA PENHA                      3246            3877          0.837245\n",
       "DO QUADRO                             709             849          0.835100\n",
       "VILA RUBIM                            710             851          0.834313\n",
       "MORADA DE CAMBURI                      80              96          0.833333\n",
       "MATA DA PRAIA                         534             644          0.829193\n",
       "REPÚBLICA                             692             835          0.828743\n",
       "CONSOLAÇÃO                           1139            1376          0.827762\n",
       "PONTAL DE CAMBURI                      57              69          0.826087\n",
       "SANTO ANTÔNIO                        2262            2746          0.823744\n",
       "REDENÇÃO                             1278            1553          0.822923\n",
       "NOVA PALESTINA                       1862            2264          0.822438\n",
       "JABOUR                               2058            2509          0.820247\n",
       "SANTA LUÍZA                           351             428          0.820093\n",
       "COMDUSA                               254             310          0.819355\n",
       "JOANA D´ARC                          1169            1427          0.819201\n",
       "TABUAZEIRO                           2559            3132          0.817050\n",
       "FORTE SÃO JOÃO                       1543            1889          0.816834\n",
       "PRAIA DO CANTO                        845            1035          0.816425\n",
       "ANTÔNIO HONÓRIO                       221             271          0.815498\n",
       "BOA VISTA                             254             312          0.814103\n",
       "FRADINHOS                             210             258          0.813953\n",
       "CONQUISTA                             689             849          0.811543\n",
       "...                                   ...             ...               ...\n",
       "SANTA HELENA                          141             178          0.792135\n",
       "MARIA ORTIZ                          4586            5805          0.790009\n",
       "SÃO PEDRO                            1933            2448          0.789624\n",
       "UNIVERSITÁRIO                         120             152          0.789474\n",
       "CENTRO                               2631            3334          0.789142\n",
       "ROMÃO                                1741            2215          0.786005\n",
       "NAZARETH                              106             135          0.785185\n",
       "BARRO VERMELHO                        332             423          0.784870\n",
       "SÃO JOSÉ                             1549            1977          0.783510\n",
       "CRUZAMENTO                           1094            1398          0.782546\n",
       "FONTE GRANDE                          533             682          0.781525\n",
       "ILHA DAS CAIEIRAS                     836            1071          0.780579\n",
       "ARIOVALDO FAVALESSA                   220             282          0.780142\n",
       "ENSEADA DO SUÁ                        183             235          0.778723\n",
       "DO MOSCOSO                            321             413          0.777240\n",
       "MARUÍPE                              1478            1902          0.777077\n",
       "PARQUE MOSCOSO                        623             802          0.776808\n",
       "BENTO FERREIRA                        665             858          0.775058\n",
       "GURIGICA                             1562            2018          0.774034\n",
       "PRAIA DO SUÁ                          994            1288          0.771739\n",
       "ANDORINHAS                           1741            2262          0.769673\n",
       "CARATOÍRA                            1974            2565          0.769591\n",
       "ILHA DO PRÍNCIPE                     1734            2266          0.765225\n",
       "HORTO                                 133             175          0.760000\n",
       "JESUS DE NAZARETH                    2157            2853          0.756046\n",
       "ITARARÉ                              2591            3514          0.737336\n",
       "SANTA CLARA                           372             506          0.735178\n",
       "SANTA CECÍLIA                         325             448          0.725446\n",
       "SANTOS DUMONT                         907            1276          0.710815\n",
       "ILHAS OCEÂNICAS DE TRINDADE             0               2          0.000000\n",
       "\n",
       "[81 rows x 3 columns]"
      ]
     },
     "execution_count": 76,
     "metadata": {},
     "output_type": "execute_result"
    }
   ],
   "source": [
    "df_neighborhood"
   ]
  },
  {
   "cell_type": "markdown",
   "metadata": {},
   "source": [
    "SANTA MARTHA, JARDIM DA PENHA, SANTO ANTÔNIO and JABOUR are some of the hospitals with high number of appointments as well as high appearance rate"
   ]
  }
 ],
 "metadata": {
  "kernelspec": {
   "display_name": "Python 3",
   "language": "python",
   "name": "python3"
  },
  "language_info": {
   "codemirror_mode": {
    "name": "ipython",
    "version": 3
   },
   "file_extension": ".py",
   "mimetype": "text/x-python",
   "name": "python",
   "nbconvert_exporter": "python",
   "pygments_lexer": "ipython3",
   "version": "3.7.3"
  }
 },
 "nbformat": 4,
 "nbformat_minor": 2
}
